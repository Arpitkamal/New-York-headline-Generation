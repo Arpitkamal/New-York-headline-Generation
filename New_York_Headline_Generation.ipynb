{
  "cells": [
    {
      "cell_type": "markdown",
      "metadata": {
        "id": "view-in-github",
        "colab_type": "text"
      },
      "source": [
        "<a href=\"https://colab.research.google.com/github/Arpitkamal/New-York-headline-Generation/blob/main/New_York_Headline_Generation.ipynb\" target=\"_parent\"><img src=\"https://colab.research.google.com/assets/colab-badge.svg\" alt=\"Open In Colab\"/></a>"
      ]
    },
    {
      "cell_type": "code",
      "execution_count": 1,
      "metadata": {
        "id": "afae167f"
      },
      "outputs": [],
      "source": [
        "# keras module for building LSTM \n",
        "from tensorflow.keras.preprocessing.sequence import pad_sequences\n",
        "from tensorflow.keras.layers import Embedding, LSTM, Dense, Dropout,Bidirectional\n",
        "from tensorflow.keras.preprocessing.text import Tokenizer\n",
        "from tensorflow.keras.callbacks import EarlyStopping\n",
        "from tensorflow.keras.models import Sequential\n",
        "import tensorflow.keras.utils as ku \n",
        "\n",
        "# set seeds for reproducability\n",
        "import tensorflow as tf\n",
        "from numpy.random import seed\n",
        "# setting the random seed\n",
        "tf.random.set_seed(2)\n",
        "seed(1)\n",
        "\n",
        "import pandas as pd\n",
        "import numpy as np\n",
        "import string, os \n",
        "\n",
        "import warnings\n",
        "warnings.filterwarnings(\"ignore\")\n",
        "warnings.simplefilter(action='ignore', category=FutureWarning)"
      ],
      "id": "afae167f"
    },
    {
      "cell_type": "code",
      "execution_count": 2,
      "metadata": {
        "id": "0b157d17"
      },
      "outputs": [],
      "source": [
        "curr_dir = os.getcwd()"
      ],
      "id": "0b157d17"
    },
    {
      "cell_type": "code",
      "execution_count": 7,
      "metadata": {
        "id": "0866ff58"
      },
      "outputs": [],
      "source": [
        "curr_dir = os.path.join(curr_dir,'ArticlesApril2018.csv')"
      ],
      "id": "0866ff58"
    },
    {
      "cell_type": "code",
      "execution_count": 8,
      "metadata": {
        "id": "77f75853"
      },
      "outputs": [],
      "source": [
        "data = pd.read_csv(curr_dir)"
      ],
      "id": "77f75853"
    },
    {
      "cell_type": "code",
      "source": [
        "len(data)"
      ],
      "metadata": {
        "colab": {
          "base_uri": "https://localhost:8080/"
        },
        "id": "Wi7OFBFdevXB",
        "outputId": "0a347c0a-4092-4694-d5d0-5b610272bffa"
      },
      "id": "Wi7OFBFdevXB",
      "execution_count": 9,
      "outputs": [
        {
          "output_type": "execute_result",
          "data": {
            "text/plain": [
              "1324"
            ]
          },
          "metadata": {},
          "execution_count": 9
        }
      ]
    },
    {
      "cell_type": "code",
      "execution_count": null,
      "metadata": {
        "colab": {
          "background_save": true
        },
        "id": "99d462c6",
        "outputId": "44e8b683-9156-4245-e88d-53d6dd115186"
      },
      "outputs": [
        {
          "data": {
            "text/plain": [
              "0       Former N.F.L. Cheerleaders’ Settlement Offer: ...\n",
              "1       E.P.A. to Unveil a New Rule. Its Effect: Less ...\n",
              "2                                 The New Noma, Explained\n",
              "3                                                 Unknown\n",
              "4                                                 Unknown\n",
              "                              ...                        \n",
              "1319    This Common Question Reinforces the Gender Pay...\n",
              "1320                                   Anna, Llama and Me\n",
              "1321           Gen. Michael Hayden Has One Regret: Russia\n",
              "1322                         There Is Nothin’ Like a Tune\n",
              "1323                                              Unknown\n",
              "Name: headline, Length: 1324, dtype: object"
            ]
          },
          "execution_count": null,
          "metadata": {},
          "output_type": "execute_result"
        }
      ],
      "source": [
        "data.headline"
      ],
      "id": "99d462c6"
    },
    {
      "cell_type": "code",
      "execution_count": null,
      "metadata": {
        "colab": {
          "background_save": true
        },
        "id": "aac7bad8"
      },
      "outputs": [],
      "source": [
        "all_headlines = [h for h in data.headline if h != \"Unknown\"]"
      ],
      "id": "aac7bad8"
    },
    {
      "cell_type": "code",
      "execution_count": null,
      "metadata": {
        "colab": {
          "background_save": true
        },
        "id": "6a7ef501",
        "outputId": "2deb1085-99e9-4da3-8227-3e502e378513"
      },
      "outputs": [
        {
          "data": {
            "text/plain": [
              "1214"
            ]
          },
          "execution_count": null,
          "metadata": {},
          "output_type": "execute_result"
        }
      ],
      "source": [
        "len(all_headlines)"
      ],
      "id": "6a7ef501"
    },
    {
      "cell_type": "code",
      "execution_count": null,
      "metadata": {
        "colab": {
          "background_save": true
        },
        "id": "f64c8933",
        "scrolled": true,
        "outputId": "1db7cf83-c9bd-490e-b594-273c59f99aa8"
      },
      "outputs": [
        {
          "data": {
            "text/plain": [
              "['Former N.F.L. Cheerleaders’ Settlement Offer: $1 and a Meeting With Goodell',\n",
              " 'E.P.A. to Unveil a New Rule. Its Effect: Less Science in Policymaking.',\n",
              " 'The New Noma, Explained',\n",
              " 'How a Bag of Texas Dirt  Became a Times Tradition',\n",
              " 'Is School a Place for Self-Expression?',\n",
              " 'Commuter Reprogramming',\n",
              " 'Ford Changed Leaders, Looking for a Lift. It’s Still Looking.',\n",
              " 'Romney Failed to Win at Utah Convention, But Few Believe He’s Doomed',\n",
              " 'Chain Reaction',\n",
              " 'He Forced the Vatican to Investigate Sex Abuse. Now He’s Meeting With Pope Francis.']"
            ]
          },
          "execution_count": null,
          "metadata": {},
          "output_type": "execute_result"
        }
      ],
      "source": [
        "all_headlines[:10]"
      ],
      "id": "f64c8933"
    },
    {
      "cell_type": "markdown",
      "metadata": {
        "id": "9f65e7b5"
      },
      "source": [
        "# Data Cleaning"
      ],
      "id": "9f65e7b5"
    },
    {
      "cell_type": "code",
      "execution_count": null,
      "metadata": {
        "colab": {
          "background_save": true
        },
        "id": "03d8ee19",
        "outputId": "8ee534a3-a1ee-48e6-c228-471a48535ea7"
      },
      "outputs": [
        {
          "data": {
            "text/plain": [
              "['former nfl cheerleaders settlement offer 1 and a meeting with goodell',\n",
              " 'epa to unveil a new rule its effect less science in policymaking',\n",
              " 'the new noma explained',\n",
              " 'how a bag of texas dirt  became a times tradition',\n",
              " 'is school a place for selfexpression',\n",
              " 'commuter reprogramming',\n",
              " 'ford changed leaders looking for a lift its still looking',\n",
              " 'romney failed to win at utah convention but few believe hes doomed',\n",
              " 'chain reaction',\n",
              " 'he forced the vatican to investigate sex abuse now hes meeting with pope francis']"
            ]
          },
          "execution_count": null,
          "metadata": {},
          "output_type": "execute_result"
        }
      ],
      "source": [
        "# removing punctuation and converting the word into lower case\n",
        "def clean_text(txt):\n",
        "    txt = \"\".join(v for v in txt if v not in string.punctuation).lower()\n",
        "    txt = txt.encode(\"utf8\").decode(\"ascii\",'ignore')\n",
        "    return txt \n",
        "\n",
        "corpus = [clean_text(x) for x in all_headlines]\n",
        "corpus[:10]"
      ],
      "id": "03d8ee19"
    },
    {
      "cell_type": "markdown",
      "metadata": {
        "id": "9414978d"
      },
      "source": [
        "# Tokenizing the word\n",
        "\n",
        " Tokenization is a process of extracting tokens (terms / words) from a corpus. </br>\n",
        " In this we convert the corpus of words into dictonary of tokens. Where key being the word and the value being the token assign to it."
      ],
      "id": "9414978d"
    },
    {
      "cell_type": "code",
      "execution_count": null,
      "metadata": {
        "colab": {
          "background_save": true
        },
        "id": "dcd2e192",
        "outputId": "4feb2caf-5543-4f46-fc38-633e17cf26f5"
      },
      "outputs": [
        {
          "name": "stdout",
          "output_type": "stream",
          "text": [
            "Total Number of words: 3494\n",
            "Input Sequence :\n"
          ]
        },
        {
          "data": {
            "text/plain": [
              "[[99, 269],\n",
              " [99, 269, 371],\n",
              " [99, 269, 371, 1115],\n",
              " [99, 269, 371, 1115, 582],\n",
              " [99, 269, 371, 1115, 582, 52],\n",
              " [99, 269, 371, 1115, 582, 52, 7],\n",
              " [99, 269, 371, 1115, 582, 52, 7, 2],\n",
              " [99, 269, 371, 1115, 582, 52, 7, 2, 372],\n",
              " [99, 269, 371, 1115, 582, 52, 7, 2, 372, 10],\n",
              " [99, 269, 371, 1115, 582, 52, 7, 2, 372, 10, 1116]]"
            ]
          },
          "execution_count": null,
          "metadata": {},
          "output_type": "execute_result"
        }
      ],
      "source": [
        "tokenizer = Tokenizer()\n",
        "\n",
        "def get_sequence_of_tokens(corpus):\n",
        "    ## tokenization\n",
        "    tokenizer.fit_on_texts(corpus)\n",
        "    total_words = len(tokenizer.word_index) + 1\n",
        "    \n",
        "    ## convert data to sequence of tokens \n",
        "    input_sequences = []\n",
        "    for line in corpus:\n",
        "        token_list = tokenizer.texts_to_sequences([line])[0]\n",
        "        for i in range(1, len(token_list)):\n",
        "            n_gram_sequence = token_list[:i+1]\n",
        "            input_sequences.append(n_gram_sequence)\n",
        "    return input_sequences, total_words\n",
        "\n",
        "inp_sequences, total_words = get_sequence_of_tokens(corpus)\n",
        "print(f\"Total Number of words: {total_words}\")\n",
        "print(f\"Input Sequence :\")\n",
        "inp_sequences[:10]"
      ],
      "id": "dcd2e192"
    },
    {
      "cell_type": "markdown",
      "metadata": {
        "id": "6cb627b0"
      },
      "source": [
        "### For example \n",
        "**Headline:** i stand  with the shedevils  \n",
        "**Ngrams:** | **Sequence of Tokens**\n",
        "\n",
        "<table>\n",
        "<tr><td>Ngram </td><td> Sequence of Tokens</td></tr>\n",
        "<tr> <td>i stand </td><td> [30, 507] </td></tr>\n",
        "<tr> <td>i stand with </td><td> [30, 507, 11] </td></tr>\n",
        "<tr> <td>i stand with the </td><td> [30, 507, 11, 1] </td></tr>\n",
        "<tr> <td>i stand with the shedevils </td><td> [30, 507, 11, 1, 975] </td></tr>\n",
        "</table>"
      ],
      "id": "6cb627b0"
    },
    {
      "cell_type": "markdown",
      "metadata": {
        "id": "7d7fe629"
      },
      "source": [
        "# Padding the Sequences \n",
        "\n",
        "In this we will convert the input Sequence of X and Y labels\n",
        "\n",
        "\n",
        "\n",
        "Headline:  i stand  with the shedevils\n",
        "\n",
        "<table>\n",
        "<tr><td>X </td> <td>           Y </td></tr>\n",
        "<tr><td>i                  </td> <td>  stand</td></tr>\n",
        "<tr><td>i stand               </td> <td>  with</td></tr>\n",
        "<tr><td>i stand  with     </td> <td>  the</td></tr>\n",
        "<tr><td>i stand  with the</td> <td>shedevils</td></tr>\n",
        "</table>"
      ],
      "id": "7d7fe629"
    },
    {
      "cell_type": "code",
      "execution_count": null,
      "metadata": {
        "colab": {
          "background_save": true
        },
        "id": "d829df8f"
      },
      "outputs": [],
      "source": [
        "def generate_padded_sequences(input_sequences):\n",
        "    max_sequence_len = max([len(x) for x in input_sequences])\n",
        "    input_sequences = np.array(pad_sequences(input_sequences, maxlen=max_sequence_len, padding='pre'))\n",
        "    \n",
        "    predictors, label = input_sequences[:,:-1],input_sequences[:,-1]\n",
        "    # one-hot encoding\n",
        "    label = tf.keras.utils.to_categorical(label, num_classes=total_words)\n",
        "    return predictors, label, max_sequence_len\n",
        "\n",
        "predictors, label, max_sequence_len = generate_padded_sequences(inp_sequences)"
      ],
      "id": "d829df8f"
    },
    {
      "cell_type": "code",
      "execution_count": null,
      "metadata": {
        "colab": {
          "background_save": true
        },
        "id": "fdaf6412",
        "outputId": "7ef3d6f3-4401-4957-be0d-612acb362283"
      },
      "outputs": [
        {
          "data": {
            "text/plain": [
              "array([[   0,    0,    0, ...,    0,    0,   99],\n",
              "       [   0,    0,    0, ...,    0,   99,  269],\n",
              "       [   0,    0,    0, ...,   99,  269,  371],\n",
              "       ...,\n",
              "       [   0,    0,    0, ...,  170,    8, 3493],\n",
              "       [   0,    0,    0, ...,    8, 3493,  115],\n",
              "       [   0,    0,    0, ..., 3493,  115,    2]], dtype=int32)"
            ]
          },
          "execution_count": null,
          "metadata": {},
          "output_type": "execute_result"
        }
      ],
      "source": [
        "predictors"
      ],
      "id": "fdaf6412"
    },
    {
      "cell_type": "code",
      "execution_count": null,
      "metadata": {
        "colab": {
          "background_save": true
        },
        "id": "bf2d5a2d",
        "outputId": "d3e4b601-87f6-4b5f-c221-db9e7d7a5dfd"
      },
      "outputs": [
        {
          "data": {
            "text/plain": [
              "array([[0., 0., 0., ..., 0., 0., 0.],\n",
              "       [0., 0., 0., ..., 0., 0., 0.],\n",
              "       [0., 0., 0., ..., 0., 0., 0.],\n",
              "       ...,\n",
              "       [0., 0., 0., ..., 0., 0., 0.],\n",
              "       [0., 0., 1., ..., 0., 0., 0.],\n",
              "       [0., 0., 0., ..., 0., 0., 0.]], dtype=float32)"
            ]
          },
          "execution_count": null,
          "metadata": {},
          "output_type": "execute_result"
        }
      ],
      "source": [
        "label"
      ],
      "id": "bf2d5a2d"
    },
    {
      "cell_type": "code",
      "execution_count": null,
      "metadata": {
        "colab": {
          "background_save": true
        },
        "id": "d1cd0ea0",
        "outputId": "1fa8e382-d8c3-4bd7-ef3b-e4efdddcc072"
      },
      "outputs": [
        {
          "data": {
            "text/plain": [
              "24"
            ]
          },
          "execution_count": null,
          "metadata": {},
          "output_type": "execute_result"
        }
      ],
      "source": [
        "max_sequence_len"
      ],
      "id": "d1cd0ea0"
    },
    {
      "cell_type": "code",
      "execution_count": null,
      "metadata": {
        "colab": {
          "base_uri": "https://localhost:8080/"
        },
        "id": "a46c5164",
        "outputId": "b27e4464-08a6-4505-f816-62e417932214"
      },
      "outputs": [
        {
          "name": "stdout",
          "output_type": "stream",
          "text": [
            "Epoch 1/100\n",
            "244/244 [==============================] - 16s 23ms/step - loss: 7.5944 - accuracy: 0.0274\n",
            "Epoch 2/100\n",
            "244/244 [==============================] - 5s 22ms/step - loss: 6.8259 - accuracy: 0.0557\n",
            "Epoch 3/100\n",
            "244/244 [==============================] - 5s 21ms/step - loss: 6.1256 - accuracy: 0.0910\n",
            "Epoch 4/100\n",
            "244/244 [==============================] - 5s 21ms/step - loss: 5.1613 - accuracy: 0.1519\n",
            "Epoch 5/100\n",
            "244/244 [==============================] - 5s 20ms/step - loss: 4.0139 - accuracy: 0.2646\n",
            "Epoch 6/100\n",
            "244/244 [==============================] - 5s 20ms/step - loss: 2.9233 - accuracy: 0.4074\n",
            "Epoch 7/100\n",
            "244/244 [==============================] - 5s 20ms/step - loss: 2.1191 - accuracy: 0.5458\n",
            "Epoch 8/100\n",
            "244/244 [==============================] - 5s 20ms/step - loss: 1.5319 - accuracy: 0.6631\n",
            "Epoch 9/100\n",
            "244/244 [==============================] - 5s 20ms/step - loss: 1.2240 - accuracy: 0.7328\n",
            "Epoch 10/100\n",
            "244/244 [==============================] - 5s 20ms/step - loss: 0.9803 - accuracy: 0.7820\n",
            "Epoch 11/100\n",
            "244/244 [==============================] - 5s 20ms/step - loss: 0.8643 - accuracy: 0.8087\n",
            "Epoch 12/100\n",
            "244/244 [==============================] - 5s 21ms/step - loss: 0.7852 - accuracy: 0.8202\n",
            "Epoch 13/100\n",
            "244/244 [==============================] - 6s 23ms/step - loss: 0.7630 - accuracy: 0.8201\n",
            "Epoch 14/100\n",
            "244/244 [==============================] - 5s 21ms/step - loss: 0.8007 - accuracy: 0.8133\n",
            "Epoch 15/100\n",
            "244/244 [==============================] - 5s 20ms/step - loss: 0.9042 - accuracy: 0.7864\n",
            "Epoch 16/100\n",
            "244/244 [==============================] - 5s 20ms/step - loss: 0.8833 - accuracy: 0.7832\n",
            "Epoch 17/100\n",
            "244/244 [==============================] - 5s 20ms/step - loss: 0.8657 - accuracy: 0.7876\n",
            "Epoch 18/100\n",
            "244/244 [==============================] - 5s 21ms/step - loss: 0.7837 - accuracy: 0.8067\n",
            "Epoch 19/100\n",
            "244/244 [==============================] - 5s 20ms/step - loss: 0.7201 - accuracy: 0.8230\n",
            "Epoch 20/100\n",
            "244/244 [==============================] - 5s 20ms/step - loss: 0.7386 - accuracy: 0.8170\n",
            "Epoch 21/100\n",
            "244/244 [==============================] - 5s 21ms/step - loss: 0.7175 - accuracy: 0.8278\n",
            "Epoch 22/100\n",
            "244/244 [==============================] - 5s 20ms/step - loss: 0.7231 - accuracy: 0.8240\n",
            "Epoch 23/100\n",
            "244/244 [==============================] - 5s 20ms/step - loss: 0.7322 - accuracy: 0.8151\n",
            "Epoch 24/100\n",
            "244/244 [==============================] - 5s 20ms/step - loss: 0.7514 - accuracy: 0.8090\n",
            "Epoch 25/100\n",
            "244/244 [==============================] - 5s 20ms/step - loss: 0.7672 - accuracy: 0.8075\n",
            "Epoch 26/100\n",
            "244/244 [==============================] - 5s 21ms/step - loss: 0.7701 - accuracy: 0.8049\n",
            "Epoch 27/100\n",
            "244/244 [==============================] - 5s 21ms/step - loss: 0.7590 - accuracy: 0.8110\n",
            "Epoch 28/100\n",
            "244/244 [==============================] - 5s 20ms/step - loss: 0.7168 - accuracy: 0.8164\n",
            "Epoch 29/100\n",
            "244/244 [==============================] - 5s 20ms/step - loss: 0.7010 - accuracy: 0.8198\n",
            "Epoch 30/100\n",
            "244/244 [==============================] - 5s 20ms/step - loss: 0.6415 - accuracy: 0.8334\n",
            "Epoch 31/100\n",
            "244/244 [==============================] - 5s 20ms/step - loss: 0.6095 - accuracy: 0.8430\n",
            "Epoch 32/100\n",
            "244/244 [==============================] - 5s 20ms/step - loss: 0.5917 - accuracy: 0.8460\n",
            "Epoch 33/100\n",
            "244/244 [==============================] - 5s 20ms/step - loss: 0.6146 - accuracy: 0.8447\n",
            "Epoch 34/100\n",
            "244/244 [==============================] - 5s 20ms/step - loss: 0.6003 - accuracy: 0.8419\n",
            "Epoch 35/100\n",
            "244/244 [==============================] - 5s 20ms/step - loss: 0.6175 - accuracy: 0.8415\n",
            "Epoch 36/100\n",
            "244/244 [==============================] - 5s 20ms/step - loss: 0.6567 - accuracy: 0.8280\n",
            "Epoch 37/100\n",
            "244/244 [==============================] - 5s 20ms/step - loss: 0.6988 - accuracy: 0.8203\n",
            "Epoch 38/100\n",
            "244/244 [==============================] - 5s 20ms/step - loss: 0.7517 - accuracy: 0.8038\n",
            "Epoch 39/100\n",
            "244/244 [==============================] - 5s 21ms/step - loss: 0.7459 - accuracy: 0.8078\n",
            "Epoch 40/100\n",
            "244/244 [==============================] - 5s 21ms/step - loss: 0.7229 - accuracy: 0.8070\n",
            "Epoch 41/100\n",
            "244/244 [==============================] - 5s 20ms/step - loss: 0.7230 - accuracy: 0.8131\n",
            "Epoch 42/100\n",
            "244/244 [==============================] - 5s 21ms/step - loss: 0.7367 - accuracy: 0.8108\n",
            "Epoch 43/100\n",
            "244/244 [==============================] - 5s 21ms/step - loss: 0.7382 - accuracy: 0.8131\n",
            "Epoch 44/100\n",
            "244/244 [==============================] - 5s 20ms/step - loss: 0.7042 - accuracy: 0.8143\n",
            "Epoch 45/100\n",
            "244/244 [==============================] - 5s 21ms/step - loss: 0.6480 - accuracy: 0.8253\n",
            "Epoch 46/100\n",
            "244/244 [==============================] - 5s 20ms/step - loss: 0.6277 - accuracy: 0.8358\n",
            "Epoch 47/100\n",
            "244/244 [==============================] - 5s 21ms/step - loss: 0.6174 - accuracy: 0.8401\n",
            "Epoch 48/100\n",
            "244/244 [==============================] - 5s 20ms/step - loss: 0.5965 - accuracy: 0.8397\n",
            "Epoch 49/100\n",
            "244/244 [==============================] - 5s 20ms/step - loss: 0.6247 - accuracy: 0.8397\n",
            "Epoch 50/100\n",
            "244/244 [==============================] - 5s 21ms/step - loss: 0.6388 - accuracy: 0.8338\n",
            "Epoch 51/100\n",
            "244/244 [==============================] - 5s 21ms/step - loss: 0.6332 - accuracy: 0.8367\n",
            "Epoch 52/100\n",
            "244/244 [==============================] - 5s 21ms/step - loss: 0.6380 - accuracy: 0.8320\n",
            "Epoch 53/100\n",
            "244/244 [==============================] - 5s 21ms/step - loss: 0.6724 - accuracy: 0.8269\n",
            "Epoch 54/100\n",
            "244/244 [==============================] - 5s 21ms/step - loss: 0.6653 - accuracy: 0.8261\n",
            "Epoch 55/100\n",
            "244/244 [==============================] - 5s 21ms/step - loss: 0.7162 - accuracy: 0.8133\n",
            "Epoch 56/100\n",
            "244/244 [==============================] - 5s 21ms/step - loss: 0.7116 - accuracy: 0.8161\n",
            "Epoch 57/100\n",
            "244/244 [==============================] - 5s 20ms/step - loss: 0.6950 - accuracy: 0.8194\n",
            "Epoch 58/100\n",
            "244/244 [==============================] - 5s 21ms/step - loss: 0.7540 - accuracy: 0.8060\n",
            "Epoch 59/100\n",
            "244/244 [==============================] - 5s 21ms/step - loss: 0.7728 - accuracy: 0.8008\n",
            "Epoch 60/100\n",
            "244/244 [==============================] - 5s 21ms/step - loss: 0.7068 - accuracy: 0.8134\n",
            "Epoch 61/100\n",
            "244/244 [==============================] - 5s 21ms/step - loss: 0.6733 - accuracy: 0.8266\n",
            "Epoch 62/100\n",
            "244/244 [==============================] - 5s 21ms/step - loss: 0.6259 - accuracy: 0.8324\n",
            "Epoch 63/100\n",
            "244/244 [==============================] - 5s 20ms/step - loss: 0.6582 - accuracy: 0.8267\n",
            "Epoch 64/100\n",
            "244/244 [==============================] - 5s 20ms/step - loss: 0.6167 - accuracy: 0.8330\n",
            "Epoch 65/100\n",
            "244/244 [==============================] - 5s 20ms/step - loss: 0.5994 - accuracy: 0.8422\n",
            "Epoch 66/100\n",
            "244/244 [==============================] - 5s 21ms/step - loss: 0.6214 - accuracy: 0.8343\n",
            "Epoch 67/100\n",
            "244/244 [==============================] - 5s 21ms/step - loss: 0.6404 - accuracy: 0.8344\n",
            "Epoch 68/100\n",
            "244/244 [==============================] - 5s 21ms/step - loss: 0.6435 - accuracy: 0.8333\n",
            "Epoch 69/100\n",
            "244/244 [==============================] - 5s 21ms/step - loss: 0.6497 - accuracy: 0.8293\n",
            "Epoch 70/100\n",
            "244/244 [==============================] - 5s 21ms/step - loss: 0.6935 - accuracy: 0.8169\n",
            "Epoch 71/100\n",
            "244/244 [==============================] - 5s 20ms/step - loss: 0.6404 - accuracy: 0.8333\n",
            "Epoch 72/100\n",
            "244/244 [==============================] - 5s 20ms/step - loss: 0.6485 - accuracy: 0.8289\n",
            "Epoch 73/100\n",
            "244/244 [==============================] - 5s 20ms/step - loss: 0.6241 - accuracy: 0.8351\n",
            "Epoch 74/100\n",
            "244/244 [==============================] - 5s 20ms/step - loss: 0.6200 - accuracy: 0.8402\n",
            "Epoch 75/100\n",
            "244/244 [==============================] - 5s 21ms/step - loss: 0.7481 - accuracy: 0.8151\n",
            "Epoch 76/100\n",
            "244/244 [==============================] - 5s 21ms/step - loss: 0.6968 - accuracy: 0.8247\n",
            "Epoch 77/100\n",
            "244/244 [==============================] - 5s 21ms/step - loss: 0.6610 - accuracy: 0.8269\n",
            "Epoch 78/100\n",
            "244/244 [==============================] - 5s 21ms/step - loss: 0.6376 - accuracy: 0.8375\n",
            "Epoch 79/100\n",
            "244/244 [==============================] - 5s 21ms/step - loss: 0.6169 - accuracy: 0.8384\n",
            "Epoch 80/100\n",
            "244/244 [==============================] - 5s 21ms/step - loss: 0.6015 - accuracy: 0.8452\n",
            "Epoch 81/100\n",
            "244/244 [==============================] - 5s 20ms/step - loss: 0.6025 - accuracy: 0.8425\n",
            "Epoch 82/100\n",
            "244/244 [==============================] - 5s 20ms/step - loss: 0.6327 - accuracy: 0.8357\n",
            "Epoch 83/100\n",
            "244/244 [==============================] - 5s 20ms/step - loss: 0.6271 - accuracy: 0.8365\n",
            "Epoch 84/100\n",
            "244/244 [==============================] - 5s 20ms/step - loss: 0.6515 - accuracy: 0.8331\n",
            "Epoch 85/100\n",
            "244/244 [==============================] - 5s 20ms/step - loss: 0.6590 - accuracy: 0.8320\n",
            "Epoch 86/100\n",
            "244/244 [==============================] - 5s 21ms/step - loss: 0.6702 - accuracy: 0.8265\n",
            "Epoch 87/100\n",
            "244/244 [==============================] - 5s 21ms/step - loss: 0.6717 - accuracy: 0.8206\n",
            "Epoch 88/100\n",
            "244/244 [==============================] - 5s 21ms/step - loss: 0.6666 - accuracy: 0.8266\n",
            "Epoch 89/100\n",
            "244/244 [==============================] - 5s 21ms/step - loss: 0.6847 - accuracy: 0.8222\n",
            "Epoch 90/100\n",
            "244/244 [==============================] - 5s 21ms/step - loss: 0.6391 - accuracy: 0.8362\n",
            "Epoch 91/100\n",
            "244/244 [==============================] - 5s 21ms/step - loss: 0.6727 - accuracy: 0.8283\n",
            "Epoch 92/100\n",
            "244/244 [==============================] - 5s 21ms/step - loss: 0.7041 - accuracy: 0.8224\n",
            "Epoch 93/100\n",
            "244/244 [==============================] - 5s 21ms/step - loss: 0.7132 - accuracy: 0.8167\n",
            "Epoch 94/100\n",
            "244/244 [==============================] - 5s 21ms/step - loss: 0.7064 - accuracy: 0.8233\n",
            "Epoch 95/100\n",
            "244/244 [==============================] - 5s 21ms/step - loss: 0.7253 - accuracy: 0.8174\n",
            "Epoch 96/100\n",
            "244/244 [==============================] - 5s 21ms/step - loss: 0.6885 - accuracy: 0.8228\n",
            "Epoch 97/100\n",
            "244/244 [==============================] - 5s 21ms/step - loss: 0.6468 - accuracy: 0.8333\n",
            "Epoch 98/100\n",
            "244/244 [==============================] - 5s 21ms/step - loss: 0.6579 - accuracy: 0.8331\n",
            "Epoch 99/100\n",
            "244/244 [==============================] - 5s 21ms/step - loss: 0.6508 - accuracy: 0.8353\n",
            "Epoch 100/100\n",
            "244/244 [==============================] - 5s 21ms/step - loss: 0.6191 - accuracy: 0.8379\n"
          ]
        }
      ],
      "source": [
        "model = Sequential()\n",
        "model.add(Embedding(total_words, 100, input_length=max_sequence_len-1))\n",
        "model.add(Bidirectional(LSTM(150)))\n",
        "model.add(Dropout(0.2))\n",
        "model.add(Dense(total_words, activation='softmax'))\n",
        "\n",
        "model.compile(loss='categorical_crossentropy', optimizer=tf.keras.optimizers.Adam(lr=0.01), metrics=['accuracy'])\n",
        "history = model.fit(predictors, label, epochs=100, verbose=1)"
      ],
      "id": "a46c5164"
    },
    {
      "cell_type": "code",
      "execution_count": null,
      "metadata": {
        "colab": {
          "base_uri": "https://localhost:8080/"
        },
        "id": "ue6aluWX1__5",
        "outputId": "e79c63cd-3e26-49a1-fca2-2d409f18b757"
      },
      "outputs": [
        {
          "name": "stdout",
          "output_type": "stream",
          "text": [
            "Model: \"sequential\"\n",
            "_________________________________________________________________\n",
            " Layer (type)                Output Shape              Param #   \n",
            "=================================================================\n",
            " embedding (Embedding)       (None, 23, 100)           349400    \n",
            "                                                                 \n",
            " bidirectional (Bidirectiona  (None, 300)              301200    \n",
            " l)                                                              \n",
            "                                                                 \n",
            " dropout (Dropout)           (None, 300)               0         \n",
            "                                                                 \n",
            " dense (Dense)               (None, 3494)              1051694   \n",
            "                                                                 \n",
            "=================================================================\n",
            "Total params: 1,702,294\n",
            "Trainable params: 1,702,294\n",
            "Non-trainable params: 0\n",
            "_________________________________________________________________\n"
          ]
        }
      ],
      "source": [
        "model.summary()"
      ],
      "id": "ue6aluWX1__5"
    },
    {
      "cell_type": "code",
      "execution_count": null,
      "metadata": {
        "colab": {
          "base_uri": "https://localhost:8080/",
          "height": 302
        },
        "id": "db6bf664",
        "outputId": "14d540a0-dac4-4be9-deb6-e644fdffa152"
      },
      "outputs": [
        {
          "data": {
            "image/png": "[encoded data removed]",
            "text/plain": [
              "<Figure size 432x288 with 1 Axes>"
            ]
          },
          "metadata": {},
          "output_type": "display_data"
        }
      ],
      "source": [
        "import matplotlib.pyplot as plt\n",
        "plt.plot(history.history[\"accuracy\"])\n",
        "plt.xlabel(\"Epochs\")\n",
        "plt.ylabel(string)\n",
        "plt.show()"
      ],
      "id": "db6bf664"
    },
    {
      "cell_type": "markdown",
      "source": [
        "# Generating the text"
      ],
      "metadata": {
        "id": "4d37_XqkdR_M"
      },
      "id": "4d37_XqkdR_M"
    },
    {
      "cell_type": "code",
      "execution_count": 37,
      "metadata": {
        "id": "_w9rxJrd0Tg5"
      },
      "outputs": [],
      "source": [
        "def generate_text(seed_text, next_words, model, max_sequence_len):\n",
        "    for _ in range(next_words):\n",
        "        token_list = tokenizer.texts_to_sequences([seed_text])[0]\n",
        "        token_list = pad_sequences([token_list], maxlen=max_sequence_len-1, padding='pre')\n",
        "        pred = model.predict(token_list, verbose=0)\n",
        "        pred = np.argmax(pred,axis=1)\n",
        "        output_word = \"\"\n",
        "        for word,index in tokenizer.word_index.items():\n",
        "            if index == pred:\n",
        "                output_word = word\n",
        "                break\n",
        "        seed_text += \" \"+output_word\n",
        "    return seed_text.title()"
      ],
      "id": "_w9rxJrd0Tg5"
    },
    {
      "cell_type": "code",
      "source": [
        "all_headlines[3]"
      ],
      "metadata": {
        "colab": {
          "base_uri": "https://localhost:8080/",
          "height": 36
        },
        "id": "mgQJHcnNdsyk",
        "outputId": "2bf0196d-4747-4987-c10f-7c123427cc2f"
      },
      "id": "mgQJHcnNdsyk",
      "execution_count": 39,
      "outputs": [
        {
          "output_type": "execute_result",
          "data": {
            "application/vnd.google.colaboratory.intrinsic+json": {
              "type": "string"
            },
            "text/plain": [
              "'How a Bag of Texas Dirt  Became a Times Tradition'"
            ]
          },
          "metadata": {},
          "execution_count": 39
        }
      ]
    },
    {
      "cell_type": "code",
      "source": [
        "print (generate_text(\"How a Bag of Texas Dirt\", 5, model, max_sequence_len))"
      ],
      "metadata": {
        "colab": {
          "base_uri": "https://localhost:8080/"
        },
        "id": "UzKhSFkod3I3",
        "outputId": "8fe30bf7-ff54-41b7-80dd-26824f315a18"
      },
      "id": "UzKhSFkod3I3",
      "execution_count": 40,
      "outputs": [
        {
          "output_type": "stream",
          "name": "stdout",
          "text": [
            "How A Bag Of Texas Dirt Became A Times Tradition Of\n"
          ]
        }
      ]
    },
    {
      "cell_type": "code",
      "source": [
        "print (generate_text(\"united states\", 5, model, max_sequence_len))\n",
        "print (generate_text(\"preident trump\", 4, model, max_sequence_len))\n",
        "print (generate_text(\"donald trump\", 4, model, max_sequence_len))\n",
        "print (generate_text(\"india and china\", 10, model, max_sequence_len))\n",
        "print (generate_text(\"new york\", 4, model, max_sequence_len))\n",
        "print (generate_text(\"science and technology\", 5, model, max_sequence_len))"
      ],
      "metadata": {
        "colab": {
          "base_uri": "https://localhost:8080/"
        },
        "id": "7qbt9BWrdgkX",
        "outputId": "cccbd212-2f4f-4bb7-a984-63d9995b2fe8"
      },
      "id": "7qbt9BWrdgkX",
      "execution_count": 42,
      "outputs": [
        {
          "output_type": "stream",
          "name": "stdout",
          "text": [
            "United States Are Doing What Scott Pruitt\n",
            "Preident Trump Blasts Comey In Barrage\n",
            "Donald Trump Blasts Comey In Barrage\n",
            "India And China Is Confident It Can Endorse Rival A Man Pointing A\n",
            "New York Housing Authority Chief Under\n",
            "Science And Technology At The Mall To Promote\n"
          ]
        }
      ]
    },
    {
      "cell_type": "code",
      "source": [
        ""
      ],
      "metadata": {
        "id": "fvrD7AOTeBJO"
      },
      "id": "fvrD7AOTeBJO",
      "execution_count": null,
      "outputs": []
    }
  ],
  "metadata": {
    "accelerator": "GPU",
    "colab": {
      "name": "New_York_Headline_Generation.ipynb",
      "provenance": [],
      "include_colab_link": true
    },
    "kernelspec": {
      "display_name": "Python 3.9 (tensorflow)",
      "language": "python",
      "name": "tensorflow"
    },
    "language_info": {
      "codemirror_mode": {
        "name": "ipython",
        "version": 3
      },
      "file_extension": ".py",
      "mimetype": "text/x-python",
      "name": "python",
      "nbconvert_exporter": "python",
      "pygments_lexer": "ipython3",
      "version": "3.9.7"
    }
  },
  "nbformat": 4,
  "nbformat_minor": 5
}